{
  "cells": [
    {
      "cell_type": "code",
      "execution_count": 1,
      "metadata": {
        "colab": {
          "base_uri": "https://localhost:8080/"
        },
        "id": "wEcV94RX4eA1",
        "outputId": "9a9d1332-0454-4408-a456-05faa409df10"
      },
      "outputs": [
        {
          "output_type": "stream",
          "name": "stdout",
          "text": [
            "\u001b[2K     \u001b[90m━━━━━━━━━━━━━━━━━━━━━━━━━━━━━━━━━━━━━━━━\u001b[0m \u001b[32m44.3/44.3 kB\u001b[0m \u001b[31m1.5 MB/s\u001b[0m eta \u001b[36m0:00:00\u001b[0m\n",
            "\u001b[2K   \u001b[90m━━━━━━━━━━━━━━━━━━━━━━━━━━━━━━━━━━━━━━━━\u001b[0m \u001b[32m9.8/9.8 MB\u001b[0m \u001b[31m22.1 MB/s\u001b[0m eta \u001b[36m0:00:00\u001b[0m\n",
            "\u001b[2K   \u001b[90m━━━━━━━━━━━━━━━━━━━━━━━━━━━━━━━━━━━━━━━━\u001b[0m \u001b[32m6.9/6.9 MB\u001b[0m \u001b[31m23.3 MB/s\u001b[0m eta \u001b[36m0:00:00\u001b[0m\n",
            "\u001b[2K   \u001b[90m━━━━━━━━━━━━━━━━━━━━━━━━━━━━━━━━━━━━━━━━\u001b[0m \u001b[32m79.1/79.1 kB\u001b[0m \u001b[31m2.6 MB/s\u001b[0m eta \u001b[36m0:00:00\u001b[0m\n",
            "\u001b[?25h\u001b[1G\u001b[0K⠙\u001b[1G\u001b[0K⠹\u001b[1G\u001b[0K⠸\u001b[1G\u001b[0K⠼\u001b[1G\u001b[0K⠴\u001b[1G\u001b[0K⠦\u001b[1G\u001b[0K⠧\u001b[1G\u001b[0K⠇\u001b[1G\u001b[0K⠏\u001b[1G\u001b[0K⠋\u001b[1G\u001b[0K⠙\u001b[1G\u001b[0K⠹\u001b[1G\u001b[0K⠸\u001b[1G\u001b[0K⠼\u001b[1G\u001b[0K⠴\u001b[1G\u001b[0K⠦\u001b[1G\u001b[0K⠧\u001b[1G\u001b[0K⠇\u001b[1G\u001b[0K⠏\u001b[1G\u001b[0K⠋\u001b[1G\u001b[0K⠙\u001b[1G\u001b[0K⠹\u001b[1G\u001b[0K⠸\u001b[1G\u001b[0K⠼\u001b[1G\u001b[0K⠴\u001b[1G\u001b[0K⠦\u001b[1G\u001b[0K⠧\u001b[1G\u001b[0K⠇\u001b[1G\u001b[0K⠏\u001b[1G\u001b[0K⠋\u001b[1G\u001b[0K\n",
            "added 22 packages in 4s\n",
            "\u001b[1G\u001b[0K⠙\u001b[1G\u001b[0K\n",
            "\u001b[1G\u001b[0K⠙\u001b[1G\u001b[0K3 packages are looking for funding\n",
            "\u001b[1G\u001b[0K⠙\u001b[1G\u001b[0K  run `npm fund` for details\n",
            "\u001b[1G\u001b[0K⠙\u001b[1G\u001b[0K"
          ]
        }
      ],
      "source": [
        "!pip install -q streamlit\n",
        "!npm install -g localtunnel\n"
      ]
    },
    {
      "cell_type": "code",
      "execution_count": 7,
      "metadata": {
        "colab": {
          "base_uri": "https://localhost:8080/"
        },
        "id": "UyDcbjoE6QaX",
        "outputId": "dab77be9-7d5d-4616-8bf9-bb383c944b5a"
      },
      "outputs": [
        {
          "output_type": "stream",
          "name": "stdout",
          "text": [
            "Overwriting app.py\n"
          ]
        }
      ],
      "source": [
        "%%writefile app.py\n",
        "\n",
        "import streamlit as st\n",
        "import pandas as pd\n",
        "import matplotlib.pyplot as plt\n",
        "import seaborn as sns\n",
        "import re\n",
        "\n",
        "st.set_page_config(layout=\"wide\")\n",
        "\n",
        "# Load and clean the dataset\n",
        "@st.cache_data\n",
        "def load_and_clean_data():\n",
        "    url = \"https://raw.githubusercontent.com/cbrown-clu/class_data/refs/heads/main/data/DS_job_roles_UK.csv\"\n",
        "    df = pd.read_csv(url)\n",
        "    df.columns = df.columns.str.strip()\n",
        "\n",
        "    # Apply the cleaning functions\n",
        "    def clean_salary(salary):\n",
        "        salary = str(salary)\n",
        "        salary = re.sub(r'\\(.*?\\)', '', salary)  # Remove parentheses and contents\n",
        "        # Remove symbols including currency symbols\n",
        "        salary = re.sub(r'[£,K]|FCFA\\xa0', '', salary)\n",
        "        salary = salary.strip()  # Remove leading/trailing spaces\n",
        "\n",
        "        if '-' in salary:  # Handle ranges by taking the average\n",
        "            try:\n",
        "                low, high = map(int, salary.split('-'))\n",
        "                salary = (low + high) / 2\n",
        "            except ValueError:\n",
        "                # Handle cases with invalid salary ranges\n",
        "                return float('nan')\n",
        "\n",
        "        try:\n",
        "            return float(salary)  # Convert to float\n",
        "        except ValueError:\n",
        "            return float('nan')  # Return NaN if conversion fails\n",
        "\n",
        "    def clean_date(date_str):\n",
        "        date_str = str(date_str)\n",
        "        date_str = re.sub(r'[^\\d]', '', date_str)  # Remove non-digit characters\n",
        "        if date_str == '':\n",
        "            return float('nan')\n",
        "        try:\n",
        "            return int(date_str)\n",
        "        except ValueError:\n",
        "            return float('nan')\n",
        "\n",
        "    df['Salary'] = df['Salary'].apply(clean_salary)\n",
        "    df['Salary'] = df['Salary'].fillna(0)\n",
        "    df['Date'] = df['Date'].apply(clean_date)\n",
        "    df['Date'] = df['Date'].fillna(0)\n",
        "    df = df.rename(columns={'Salary': 'Salary (in Thousands)', 'Date': 'Date (Days)'})\n",
        "\n",
        "    return df\n",
        "\n",
        "df = load_and_clean_data()\n",
        "\n",
        "#  Interactive elements\n",
        "st.sidebar.header(\"Interactive Elements\")\n",
        "\n",
        "# Company selection (multiselect)\n",
        "company_options = df['Company'].unique()\n",
        "selected_companies = st.sidebar.multiselect(\"Select Companies\", company_options, default=company_options[:3])  # Default to first 3\n",
        "\n",
        "\n",
        "#  Filter data based on selections\n",
        "filtered_df = df[df['Company'].isin(selected_companies)]\n",
        "\n",
        "# Company Score Plot\n",
        "\n",
        "st.header(\"Company Scores\")\n",
        "\n",
        "# Slider for number of companies to display\n",
        "num_companies_to_display = st.slider(\"Number of Companies to Display\", 1, len(selected_companies), len(selected_companies))\n",
        "\n",
        "# Filter data for the plot\n",
        "plot_df = filtered_df.groupby('Company')['Company Score'].mean().reset_index()\n",
        "plot_df = plot_df.sort_values(by=['Company Score'], ascending=False).head(num_companies_to_display)\n",
        "\n",
        "\n",
        "fig, ax = plt.subplots(figsize=(8, 4))  # Adjust figsize to reduce size\n",
        "sns.barplot(x='Company', y='Company Score', data=plot_df, ax=ax)\n",
        "plt.xticks(rotation=45, ha='right')  # Rotate x-axis labels for better readability\n",
        "st.pyplot(fig)\n",
        "\n",
        "\n",
        "# Interactive Table\n",
        "st.header(\"Interactive Data Table\")\n",
        "\n",
        "# Number of rows to display\n",
        "num_rows = st.slider(\"Number of Rows to Display\", 1, len(df), 10)\n",
        "\n",
        "# Columns to display\n",
        "columns_to_display = st.multiselect(\"Select Columns to Display\", df.columns, default=df.columns[:5])  # Default to first 5 columns\n",
        "\n",
        "# Display the table\n",
        "st.dataframe(df[columns_to_display].head(num_rows))"
      ]
    },
    {
      "cell_type": "code",
      "execution_count": 3,
      "metadata": {
        "id": "D95Vrv854mps"
      },
      "outputs": [],
      "source": [
        "!streamlit run app.py &>/content/logs.txt &\n"
      ]
    },
    {
      "cell_type": "code",
      "execution_count": 4,
      "metadata": {
        "id": "DHo9ZVl24o3N"
      },
      "outputs": [],
      "source": [
        "import time\n",
        "time.sleep(5)\n"
      ]
    },
    {
      "cell_type": "code",
      "execution_count": 5,
      "metadata": {
        "colab": {
          "base_uri": "https://localhost:8080/"
        },
        "id": "FO6hJVPnxDsB",
        "outputId": "eca40c66-0b20-45fa-80ad-4252e3861bbc"
      },
      "outputs": [
        {
          "output_type": "stream",
          "name": "stdout",
          "text": [
            "Password for localtunnel is: 34.82.176.133\n"
          ]
        }
      ],
      "source": [
        "import urllib\n",
        "print(\"Password for localtunnel is:\",urllib.request.urlopen('https://ipv4.icanhazip.com').read().decode('utf8').strip(\"\\n\"))"
      ]
    },
    {
      "cell_type": "code",
      "execution_count": 6,
      "metadata": {
        "colab": {
          "base_uri": "https://localhost:8080/"
        },
        "id": "p4upstpL5Ds6",
        "outputId": "ac014316-7048-4eb5-cc69-eb87850cb744"
      },
      "outputs": [
        {
          "output_type": "stream",
          "name": "stdout",
          "text": [
            "\u001b[1G\u001b[0K⠙\u001b[1G\u001b[0K⠹\u001b[1G\u001b[0K⠸\u001b[1G\u001b[0K⠼\u001b[1G\u001b[0K⠴\u001b[1G\u001b[0K⠦\u001b[1G\u001b[0K⠧\u001b[1G\u001b[0K⠇\u001b[1G\u001b[0K⠏\u001b[1G\u001b[0K⠋\u001b[1G\u001b[0K⠙\u001b[1G\u001b[0K⠹\u001b[1G\u001b[0K⠸\u001b[1G\u001b[0K⠼\u001b[1G\u001b[0K⠴\u001b[1G\u001b[0K⠦\u001b[1G\u001b[0K⠧\u001b[1G\u001b[0K⠇\u001b[1G\u001b[0K⠏\u001b[1G\u001b[0K⠋\u001b[1G\u001b[0Kyour url is: https://five-things-love.loca.lt\n",
            "^C\n"
          ]
        }
      ],
      "source": [
        "!npx localtunnel --port 8501\n",
        "\n"
      ]
    }
  ],
  "metadata": {
    "colab": {
      "provenance": []
    },
    "kernelspec": {
      "display_name": "Python 3",
      "name": "python3"
    },
    "language_info": {
      "name": "python"
    }
  },
  "nbformat": 4,
  "nbformat_minor": 0
}